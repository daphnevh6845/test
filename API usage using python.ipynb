{
 "cells": [
  {
   "cell_type": "markdown",
   "id": "inclusive-celebration",
   "metadata": {},
   "source": [
    "# Initialize the module:test1"
   ]
  },
  {
   "cell_type": "code",
   "execution_count": 1,
   "id": "little-brooks",
   "metadata": {},
   "outputs": [],
   "source": [
    "from flask import Flask\n",
    "from flask_restful import Resource,Api,reqparse"
   ]
  },
  {
   "cell_type": "code",
   "execution_count": 2,
   "id": "otherwise-aggregate",
   "metadata": {},
   "outputs": [],
   "source": [
    "import pandas as pd\n",
    "import ast"
   ]
  },
  {
   "cell_type": "code",
   "execution_count": 3,
   "id": "statistical-offer",
   "metadata": {},
   "outputs": [],
   "source": [
    "#api will be \n",
    "# www.api.com/location\n",
    "# www.api.com/users \n",
    "test = Flask(__name__)\n",
    "api = Api(test)"
   ]
  },
  {
   "cell_type": "code",
   "execution_count": null,
   "id": "quantitative-school",
   "metadata": {},
   "outputs": [
    {
     "name": "stdout",
     "output_type": "stream",
     "text": [
      " * Serving Flask app \"__main__\" (lazy loading)\n",
      " * Environment: production\n",
      "   WARNING: This is a development server. Do not use it in a production deployment.\n",
      "   Use a production WSGI server instead.\n",
      " * Debug mode: off\n"
     ]
    },
    {
     "name": "stderr",
     "output_type": "stream",
     "text": [
      " * Running on http://127.0.0.1:5000/ (Press CTRL+C to quit)\n",
      "127.0.0.1 - - [04/Apr/2021 16:11:44] \"\u001b[33mGET / HTTP/1.1\u001b[0m\" 404 -\n",
      "127.0.0.1 - - [04/Apr/2021 16:11:45] \"\u001b[33mGET /favicon.ico HTTP/1.1\u001b[0m\" 404 -\n",
      "[2021-04-04 16:12:14,357] ERROR in app: Exception on /users [GET]\n",
      "Traceback (most recent call last):\n",
      "  File \"C:\\Users\\Daisy\\anaconda3\\lib\\site-packages\\flask\\app.py\", line 1950, in full_dispatch_request\n",
      "    rv = self.dispatch_request()\n",
      "  File \"C:\\Users\\Daisy\\anaconda3\\lib\\site-packages\\flask\\app.py\", line 1936, in dispatch_request\n",
      "    return self.view_functions[rule.endpoint](**req.view_args)\n",
      "  File \"C:\\Users\\Daisy\\anaconda3\\lib\\site-packages\\flask_restful\\__init__.py\", line 468, in wrapper\n",
      "    resp = resource(*args, **kwargs)\n",
      "  File \"C:\\Users\\Daisy\\anaconda3\\lib\\site-packages\\flask\\views.py\", line 89, in view\n",
      "    return self.dispatch_request(*args, **kwargs)\n",
      "  File \"C:\\Users\\Daisy\\anaconda3\\lib\\site-packages\\flask_restful\\__init__.py\", line 573, in dispatch_request\n",
      "    assert meth is not None, 'Unimplemented method %r' % request.method\n",
      "AssertionError: Unimplemented method 'GET'\n",
      "127.0.0.1 - - [04/Apr/2021 16:12:14] \"\u001b[35m\u001b[1mGET /users HTTP/1.1\u001b[0m\" 500 -\n"
     ]
    }
   ],
   "source": [
    "if __name__ == '__main__':\n",
    "    app.run()  # run our Flask app"
   ]
  },
  {
   "cell_type": "code",
   "execution_count": null,
   "id": "damaged-office",
   "metadata": {},
   "outputs": [],
   "source": [
    "class Users(Resource):\n",
    "    def get(self):\n",
    "        data = pd.read_csv('C:\\Users\\Daisy\\Downloads\\users.csv')  # read CSV\n",
    "        data = data.to_dict()  # convert dataframe to dictionary\n",
    "        return {'data': data}, 200  \n",
    "    pass\n",
    "    \n",
    "class Locations(Resource):\n",
    "    # methods go here\n",
    "    pass\n",
    "    \n",
    "api.add_resource(Users, '/users')  # '/users' is our entry point for Users\n",
    "api.add_resource(Locations, '/locations') "
   ]
  },
  {
   "cell_type": "code",
   "execution_count": null,
   "id": "identical-analyst",
   "metadata": {},
   "outputs": [],
   "source": []
  }
 ],
 "metadata": {
  "kernelspec": {
   "display_name": "Python 3",
   "language": "python",
   "name": "python3"
  },
  "language_info": {
   "codemirror_mode": {
    "name": "ipython",
    "version": 3
   },
   "file_extension": ".py",
   "mimetype": "text/x-python",
   "name": "python",
   "nbconvert_exporter": "python",
   "pygments_lexer": "ipython3",
   "version": "3.8.5"
  }
 },
 "nbformat": 4,
 "nbformat_minor": 5
}
